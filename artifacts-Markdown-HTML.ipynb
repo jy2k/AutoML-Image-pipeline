{
 "cells": [
  {
   "cell_type": "code",
   "execution_count": 1,
   "id": "fb13511f-ebf7-4a87-9795-2792ceb30c01",
   "metadata": {},
   "outputs": [],
   "source": [
    "from kfp.v2 import dsl\n",
    "from kfp.v2.dsl import (\n",
    "    component,\n",
    "    Output,\n",
    "    ClassificationMetrics,\n",
    "    Metrics,\n",
    "    HTML,\n",
    "    Markdown\n",
    ")\n"
   ]
  },
  {
   "cell_type": "code",
   "execution_count": 6,
   "id": "1ba71d6d-b67f-43a1-8751-9caf32e2a672",
   "metadata": {},
   "outputs": [],
   "source": [
    "PROJECT_ID = \"kubeflow-demos\"  # @param {type:\"string\"}\n",
    "PROJECT_NUMBER = \"141610882258\"\n",
    "REGION = \"us-central1\"  # @param {type: \"string\"}\n",
    "BUCKET_NAME = \"test-fast\"  # @param {type:\"string\"}\n",
    "BUCKET_URI = f\"gs://{BUCKET_NAME}\""
   ]
  },
  {
   "cell_type": "code",
   "execution_count": 2,
   "id": "4da54c91-5883-4a6a-bd23-9d4ff3a2684e",
   "metadata": {},
   "outputs": [],
   "source": [
    "\n",
    "@component\n",
    "def html_visualization(html_artifact: Output[HTML]):\n",
    "    public_url = 'https://user-images.githubusercontent.com/37026441/140434086-d9e1099b-82c7-4df8-ae25-83fda2929088.png'\n",
    "    html_content = \\\n",
    "      '<html><head></head><body><h1>Global Feature Importance</h1>\\n<img src=\"{}\" width=\"97%\"/></body></html>'.format(public_url)\n",
    "    with open(html_artifact.path, 'w') as f:\n",
    "        f.write(html_content)\n"
   ]
  },
  {
   "cell_type": "code",
   "execution_count": 3,
   "id": "e343ef3d-dfe7-48d6-b26c-f8530012d491",
   "metadata": {},
   "outputs": [],
   "source": [
    "@component\n",
    "def markdown_visualization(markdown_artifact: Output[Markdown]):\n",
    "    import urllib.request\n",
    "\n",
    "    with urllib.request.urlopen('https://gist.githubusercontent.com/zijianjoy/a288d582e477f8021a1fcffcfd9a1803/raw/68519f72abb59152d92cf891b4719cd95c40e4b6/table_visualization.md') as table:\n",
    "        markdown_content = table.read().decode('utf-8')\n",
    "        with open(markdown_artifact.path, 'w') as f:\n",
    "            f.write(markdown_content)"
   ]
  },
  {
   "cell_type": "code",
   "execution_count": 5,
   "id": "2272d1e3-151d-4586-84ec-920bebc9f7a3",
   "metadata": {},
   "outputs": [
    {
     "name": "stderr",
     "output_type": "stream",
     "text": [
      "/Users/yarkoni/projects/workshop/venv/lib/python3.9/site-packages/kfp/v2/compiler/compiler.py:1278: FutureWarning: APIs imported from the v1 namespace (e.g. kfp.dsl, kfp.components, etc) will not be supported by the v2 compiler since v2.0.0\n",
      "  warnings.warn(\n"
     ]
    }
   ],
   "source": [
    "\n",
    "from kfp.v2 import dsl, compiler\n",
    "@dsl.pipeline(name=f'metrics-visualization-pipeline-1008')\n",
    "def metrics_visualization_pipeline():\n",
    "    html_visualization_op = html_visualization()\n",
    "    markdown_visualization_op = markdown_visualization()\n",
    "\n",
    "compiler.Compiler().compile(pipeline_func=metrics_visualization_pipeline, package_path='metrics_visualization_pipeline.json')"
   ]
  },
  {
   "cell_type": "code",
   "execution_count": 9,
   "id": "332e4474-9257-4cd1-9f6f-abb4053b2313",
   "metadata": {},
   "outputs": [
    {
     "name": "stdout",
     "output_type": "stream",
     "text": [
      "INFO:root:Resource html-mark not found.\n",
      "INFO:root:Creating Resource html-mark\n"
     ]
    }
   ],
   "source": [
    "import google.cloud.aiplatform as aiplatform\n",
    "\n",
    "aiplatform.init(\n",
    "    # your Google Cloud Project ID or number\n",
    "    # environment default used is not set\n",
    "    project=PROJECT_ID,\n",
    "\n",
    "    # the Vertex AI region you will use\n",
    "    # defaults to us-central1\n",
    "    location=REGION,\n",
    "\n",
    "    # Google Cloud Storage bucket in same region as location\n",
    "    # used to stage artifacts\n",
    "    staging_bucket=BUCKET_URI,\n",
    "\n",
    "    # the name of the experiment to use to track\n",
    "    # logged metrics and parameters\n",
    "    experiment='html-mark',\n",
    "\n",
    "    # description of the experiment above\n",
    "    experiment_description='my experiment description'\n",
    ")"
   ]
  },
  {
   "cell_type": "code",
   "execution_count": 10,
   "id": "0eec6462-469d-4c28-acff-f7bfae91669b",
   "metadata": {},
   "outputs": [
    {
     "name": "stdout",
     "output_type": "stream",
     "text": [
      "INFO:google.cloud.aiplatform.pipeline_jobs:Creating PipelineJob\n",
      "INFO:google.cloud.aiplatform.pipeline_jobs:PipelineJob created. Resource name: projects/141610882258/locations/us-central1/pipelineJobs/metrics-visualization-pipeline-1008-20220405162340\n",
      "INFO:google.cloud.aiplatform.pipeline_jobs:To use this PipelineJob in another session:\n",
      "INFO:google.cloud.aiplatform.pipeline_jobs:pipeline_job = aiplatform.PipelineJob.get('projects/141610882258/locations/us-central1/pipelineJobs/metrics-visualization-pipeline-1008-20220405162340')\n",
      "INFO:google.cloud.aiplatform.pipeline_jobs:View Pipeline Job:\n",
      "https://console.cloud.google.com/vertex-ai/locations/us-central1/pipelines/runs/metrics-visualization-pipeline-1008-20220405162340?project=141610882258\n",
      "INFO:google.cloud.aiplatform.pipeline_jobs:PipelineJob projects/141610882258/locations/us-central1/pipelineJobs/metrics-visualization-pipeline-1008-20220405162340 current state:\n",
      "PipelineState.PIPELINE_STATE_RUNNING\n",
      "INFO:google.cloud.aiplatform.pipeline_jobs:PipelineJob projects/141610882258/locations/us-central1/pipelineJobs/metrics-visualization-pipeline-1008-20220405162340 current state:\n",
      "PipelineState.PIPELINE_STATE_RUNNING\n",
      "INFO:google.cloud.aiplatform.pipeline_jobs:PipelineJob projects/141610882258/locations/us-central1/pipelineJobs/metrics-visualization-pipeline-1008-20220405162340 current state:\n",
      "PipelineState.PIPELINE_STATE_RUNNING\n",
      "INFO:google.cloud.aiplatform.pipeline_jobs:PipelineJob projects/141610882258/locations/us-central1/pipelineJobs/metrics-visualization-pipeline-1008-20220405162340 current state:\n",
      "PipelineState.PIPELINE_STATE_RUNNING\n",
      "INFO:google.cloud.aiplatform.pipeline_jobs:PipelineJob run completed. Resource name: projects/141610882258/locations/us-central1/pipelineJobs/metrics-visualization-pipeline-1008-20220405162340\n"
     ]
    }
   ],
   "source": [
    "# Instantiate PipelineJob object\n",
    "pl = aiplatform.PipelineJob(\n",
    "    display_name=\"Mark-Html\",\n",
    "\n",
    "    # Whether or not to enable caching\n",
    "    # True = always cache pipeline step result\n",
    "    # False = never cache pipeline step result\n",
    "    # None = defer to cache option for each pipeline component in the pipeline definition\n",
    "    enable_caching=True,\n",
    "\n",
    "    # Local or GCS path to a compiled pipeline definition\n",
    "    template_path='metrics_visualization_pipeline.json',\n",
    "\n",
    "    # Dictionary containing input parameters for your pipeline\n",
    "    parameter_values={},\n",
    "\n",
    "    # GCS path to act as the pipeline root\n",
    "    pipeline_root=BUCKET_URI,\n",
    ")\n",
    "\n",
    "# Execute pipeline in Vertex AI and monitor until completion\n",
    "pl.run(\n",
    "  # Email address of service account to use for the pipeline run\n",
    "  # You must have iam.serviceAccounts.actAs permission on the service account to use it\n",
    "  #service_account=service_account,\n",
    "\n",
    "  # Whether this function call should be synchronous (wait for pipeline run to finish before terminating)\n",
    "  # or asynchronous (return immediately)\n",
    "  sync=False\n",
    ")"
   ]
  },
  {
   "cell_type": "code",
   "execution_count": null,
   "id": "87cb7ab3-cab9-44a9-8579-144d79fb3624",
   "metadata": {},
   "outputs": [],
   "source": []
  }
 ],
 "metadata": {
  "kernelspec": {
   "display_name": "Python 3 (ipykernel)",
   "language": "python",
   "name": "python3"
  },
  "language_info": {
   "codemirror_mode": {
    "name": "ipython",
    "version": 3
   },
   "file_extension": ".py",
   "mimetype": "text/x-python",
   "name": "python",
   "nbconvert_exporter": "python",
   "pygments_lexer": "ipython3",
   "version": "3.9.4"
  }
 },
 "nbformat": 4,
 "nbformat_minor": 5
}
